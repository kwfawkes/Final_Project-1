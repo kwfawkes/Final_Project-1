{
 "cells": [
  {
   "cell_type": "code",
   "execution_count": 2,
   "metadata": {
    "collapsed": false
   },
   "outputs": [
    {
     "name": "stdout",
     "output_type": "stream",
     "text": [
      "/Users/nicoharacrudele\n"
     ]
    }
   ],
   "source": [
    "%cd "
   ]
  },
  {
   "cell_type": "code",
   "execution_count": 3,
   "metadata": {
    "collapsed": false
   },
   "outputs": [
    {
     "name": "stdout",
     "output_type": "stream",
     "text": [
      "/Users/nicoharacrudele/Desktop\n"
     ]
    }
   ],
   "source": [
    "%cd Desktop"
   ]
  },
  {
   "cell_type": "code",
   "execution_count": 4,
   "metadata": {
    "collapsed": false
   },
   "outputs": [
    {
     "name": "stdout",
     "output_type": "stream",
     "text": [
      "\u001b[34mAbleton Files\u001b[m\u001b[m/                         Spacerdatabase.txt\r\n",
      "Acidovorax sp. JS42.ipynb              Tests - for std, assertions.ipynb\r\n",
      "Biopython example.ipynb                Traktor_2_2100U_Mac.dmg\r\n",
      "\u001b[34mCRISPR data\u001b[m\u001b[m/                           \u001b[34mcode_review\u001b[m\u001b[m/\r\n",
      "CRISPR_locus_diagram.png               \u001b[34mexample genomes\u001b[m\u001b[m/\r\n",
      "\u001b[34mComputation\u001b[m\u001b[m/                           \u001b[34mfinal_project-1\u001b[m\u001b[m/\r\n",
      "Controller_Editor_192_Mac.dmg          \u001b[34mfinances\u001b[m\u001b[m/\r\n",
      "\u001b[34mFinal_Project-2\u001b[m\u001b[m/                       nano.save\r\n",
      "\u001b[34mFinal_Project_Desktop\u001b[m\u001b[m/                 \u001b[34mnicoharacrudele.github.io\u001b[m\u001b[m/\r\n",
      "\u001b[34mFinal_Project_for_upload\u001b[m\u001b[m/              notebook-2.txt\r\n",
      "Final_Project_notes.ipynb              \u001b[34mother people's music\u001b[m\u001b[m/\r\n",
      "\u001b[34mFresh Figs Music\u001b[m\u001b[m/                      \u001b[34mphageParser\u001b[m\u001b[m/\r\n",
      "\u001b[34mInflammation\u001b[m\u001b[m/                          sequence.fasta\r\n",
      "Nostoc_azollae_ complete_genome.fasta  \u001b[34mtext_book_data\u001b[m\u001b[m/\r\n",
      "\u001b[34mPython_thoughts\u001b[m\u001b[m/                       \u001b[34mto move to phone\u001b[m\u001b[m/\r\n",
      "\u001b[34mQuest\u001b[m\u001b[m/                                 to talk to Bruce about.docx\r\n"
     ]
    }
   ],
   "source": [
    "%ls"
   ]
  },
  {
   "cell_type": "code",
   "execution_count": 5,
   "metadata": {
    "collapsed": true
   },
   "outputs": [],
   "source": [
    "import pandas as pd\n",
    "import matplotlib.pyplot as plt\n",
    "import re"
   ]
  },
  {
   "cell_type": "code",
   "execution_count": 6,
   "metadata": {
    "collapsed": false
   },
   "outputs": [],
   "source": [
    "#here I import the file as sequence.\n",
    "sequence = pd.read_csv('sequence.fasta', 'r',delimiter='\\n')"
   ]
  },
  {
   "cell_type": "code",
   "execution_count": 7,
   "metadata": {
    "collapsed": false
   },
   "outputs": [
    {
     "data": {
      "text/html": [
       "<div>\n",
       "<table border=\"1\" class=\"dataframe\">\n",
       "  <thead>\n",
       "    <tr style=\"text-align: right;\">\n",
       "      <th></th>\n",
       "      <th>&gt;gi|651865246|ref|NC_022538.1| complete chromosome Acholeplasma palmae</th>\n",
       "    </tr>\n",
       "  </thead>\n",
       "  <tbody>\n",
       "    <tr>\n",
       "      <th>0</th>\n",
       "      <td>TTTTTTAACCTTTTTTTATAAAATTACATTTATTAGTTTTACAAAG...</td>\n",
       "    </tr>\n",
       "    <tr>\n",
       "      <th>1</th>\n",
       "      <td>GAATTGTGGGAAACTTTCCCACAAATTTCCCACATTGTGGAAAAGT...</td>\n",
       "    </tr>\n",
       "    <tr>\n",
       "      <th>2</th>\n",
       "      <td>AATGCATTTCTAATGCTCTTTTTGTCCACATTTTGGTGTTTTTCTA...</td>\n",
       "    </tr>\n",
       "    <tr>\n",
       "      <th>3</th>\n",
       "      <td>AAATAATGTGGGAAACTTTTGAAACTTTTTCCACATTTATATGATA...</td>\n",
       "    </tr>\n",
       "    <tr>\n",
       "      <th>4</th>\n",
       "      <td>GGAGGTCTGTCATGAACATTTATGATGATTTGTGGAATAAGATTTT...</td>\n",
       "    </tr>\n",
       "    <tr>\n",
       "      <th>5</th>\n",
       "      <td>TGAAGAAGTTTATAATGAAATATTCGCTCCTATAAAGTCTACTCAT...</td>\n",
       "    </tr>\n",
       "    <tr>\n",
       "      <th>6</th>\n",
       "      <td>ATAATTGTAGAATCTGAATTTATTAAAAACAGAATTTCAAGAATGT...</td>\n",
       "    </tr>\n",
       "    <tr>\n",
       "      <th>7</th>\n",
       "      <td>CAACAAAACACTTTGATCAAGCAGTAAGATTTAAATTTGTAACTGC...</td>\n",
       "    </tr>\n",
       "    <tr>\n",
       "      <th>8</th>\n",
       "      <td>ACCAAAAGATAGAGTTCTGACAATTAACACCTACCGTCCTGGTAAT...</td>\n",
       "    </tr>\n",
       "    <tr>\n",
       "      <th>9</th>\n",
       "      <td>AATTTCGTTGTTGGTAAGAGTAACACTTTCGCCTTTAGAATGGCTA...</td>\n",
       "    </tr>\n",
       "  </tbody>\n",
       "</table>\n",
       "</div>"
      ],
      "text/plain": [
       "  >gi|651865246|ref|NC_022538.1| complete chromosome Acholeplasma palmae\n",
       "0  TTTTTTAACCTTTTTTTATAAAATTACATTTATTAGTTTTACAAAG...                    \n",
       "1  GAATTGTGGGAAACTTTCCCACAAATTTCCCACATTGTGGAAAAGT...                    \n",
       "2  AATGCATTTCTAATGCTCTTTTTGTCCACATTTTGGTGTTTTTCTA...                    \n",
       "3  AAATAATGTGGGAAACTTTTGAAACTTTTTCCACATTTATATGATA...                    \n",
       "4  GGAGGTCTGTCATGAACATTTATGATGATTTGTGGAATAAGATTTT...                    \n",
       "5  TGAAGAAGTTTATAATGAAATATTCGCTCCTATAAAGTCTACTCAT...                    \n",
       "6  ATAATTGTAGAATCTGAATTTATTAAAAACAGAATTTCAAGAATGT...                    \n",
       "7  CAACAAAACACTTTGATCAAGCAGTAAGATTTAAATTTGTAACTGC...                    \n",
       "8  ACCAAAAGATAGAGTTCTGACAATTAACACCTACCGTCCTGGTAAT...                    \n",
       "9  AATTTCGTTGTTGGTAAGAGTAACACTTTCGCCTTTAGAATGGCTA...                    "
      ]
     },
     "execution_count": 7,
     "metadata": {},
     "output_type": "execute_result"
    }
   ],
   "source": [
    "#here I show that the sequence is viewable, by checking the first 10 lines\n",
    "sequence[:10]"
   ]
  },
  {
   "cell_type": "code",
   "execution_count": 8,
   "metadata": {
    "collapsed": false
   },
   "outputs": [],
   "source": [
    "sequence = str(sequence)"
   ]
  },
  {
   "cell_type": "code",
   "execution_count": 9,
   "metadata": {
    "collapsed": true
   },
   "outputs": [],
   "source": [
    "short_seq = str(\"AATTTCGTTGTTGG\")"
   ]
  },
  {
   "cell_type": "code",
   "execution_count": 15,
   "metadata": {
    "collapsed": false
   },
   "outputs": [
    {
     "data": {
      "text/plain": [
       "1576505"
      ]
     },
     "execution_count": 15,
     "metadata": {},
     "output_type": "execute_result"
    }
   ],
   "source": [
    "# Tiffany showed me a new way to import the data, which allows the REs to work.\n",
    "wgs = open('sequence.fasta', 'r').read()\n",
    "len(wgs)"
   ]
  },
  {
   "cell_type": "code",
   "execution_count": 17,
   "metadata": {
    "collapsed": false
   },
   "outputs": [],
   "source": [
    "#this makes the first spacer a string\n",
    "first_spacer = str('CATCTATCATCATAGCCCACTCGTATCTTA')"
   ]
  },
  {
   "cell_type": "code",
   "execution_count": 21,
   "metadata": {
    "collapsed": false
   },
   "outputs": [
    {
     "data": {
      "text/plain": [
       "<_sre.SRE_Match object; span=(315687, 315717), match='CATCTATCATCATAGCCCACTCGTATCTTA'>"
      ]
     },
     "execution_count": 21,
     "metadata": {},
     "output_type": "execute_result"
    }
   ],
   "source": [
    "#This RE search shows the location of the first spacer\n",
    "re.search(first_spacer,wgs)"
   ]
  },
  {
   "cell_type": "code",
   "execution_count": 11,
   "metadata": {
    "collapsed": false
   },
   "outputs": [
    {
     "data": {
      "text/plain": [
       "'GTTGTGTTACCCTCGTAATTTTTGCTATCTAACAAC'"
      ]
     },
     "execution_count": 11,
     "metadata": {},
     "output_type": "execute_result"
    }
   ],
   "source": [
    "#here I make the repeats a string\n",
    "repeats = \"GTTGTGTTACCCTCGTAATTTTTGCTATCTAACAAC\"\n",
    "str(repeats)"
   ]
  },
  {
   "cell_type": "code",
   "execution_count": 19,
   "metadata": {
    "collapsed": false
   },
   "outputs": [
    {
     "data": {
      "text/plain": [
       "<_sre.SRE_Match object; span=(315984, 316020), match='GTTGTGTTACCCTCGTAATTTTTGCTATCTAACAAC'>"
      ]
     },
     "execution_count": 19,
     "metadata": {},
     "output_type": "execute_result"
    }
   ],
   "source": [
    "#This RE search shows the location of the first repeat\n",
    "re.search(repeats,wgs)"
   ]
  },
  {
   "cell_type": "markdown",
   "metadata": {},
   "source": [
    "I want to count how many times the repeat happens in the dataset"
   ]
  },
  {
   "cell_type": "code",
   "execution_count": 23,
   "metadata": {
    "collapsed": false
   },
   "outputs": [
    {
     "name": "stdout",
     "output_type": "stream",
     "text": [
      "25\n"
     ]
    }
   ],
   "source": [
    "#this counts the number of repeats in the genome\n",
    "print (wgs.count(repeats))"
   ]
  },
  {
   "cell_type": "code",
   "execution_count": 24,
   "metadata": {
    "collapsed": false
   },
   "outputs": [
    {
     "name": "stdout",
     "output_type": "stream",
     "text": [
      "1\n"
     ]
    }
   ],
   "source": [
    "print (wgs.count(first_spacer))"
   ]
  },
  {
   "cell_type": "code",
   "execution_count": null,
   "metadata": {
    "collapsed": false
   },
   "outputs": [],
   "source": [
    "if re.search('repeats'):\n",
    "        print (yes)"
   ]
  },
  {
   "cell_type": "code",
   "execution_count": null,
   "metadata": {
    "collapsed": false
   },
   "outputs": [],
   "source": [
    "# this a biopython importer that may be useful later, so I'll leave it up here until then.\n",
    "from Bio import SeqIO\n",
    "handle = open('sequence.fasta', \"rU\")\n",
    "for record in SeqIO.parse(handle, \"fasta\") :\n",
    "    print (record.id)\n",
    "handle.close()"
   ]
  },
  {
   "cell_type": "code",
   "execution_count": null,
   "metadata": {
    "collapsed": false
   },
   "outputs": [],
   "source": [
    "print ('repeats'.count('genome'))"
   ]
  },
  {
   "cell_type": "markdown",
   "metadata": {},
   "source": [
    "The biggest problem with the project the last time I analyzed it was getting the data loaded into python. However, after speaking with the developer, I understand they finally managed to load the DNA data in a format that they were satisfied with. I think this was a huge step in the right direction for this project. I see that this method of loading thge data was included in a cell part way down your project. I found the old import methods at the top and bottom of the page a bit of a distraction to your logical flow, however the commands below the new and useful import method flowed together nicely and the ideas connected well. One thing that might be nice is to link your code at certain steps to your overall goal outlined in your 10 minute plan. This would make the project easier to understand and potentially make the analyst more comfortable. Most of the cells have comments, the commands in each cell seem pretty straight forward. I think that the code functionality is well on its way and it is beginnning to come together for the developer. The efficiency of he code is okay, however, I want to challenge the developer to use more functions in their project in order to begin automating some of the searching and counting. Now that the code funcitonality has begun to improve, I think the code should really start to improve and I hope the efficiency and communication will follow. "
   ]
  }
 ],
 "metadata": {
  "kernelspec": {
   "display_name": "Python 3",
   "language": "python",
   "name": "python3"
  },
  "language_info": {
   "codemirror_mode": {
    "name": "ipython",
    "version": 3
   },
   "file_extension": ".py",
   "mimetype": "text/x-python",
   "name": "python",
   "nbconvert_exporter": "python",
   "pygments_lexer": "ipython3",
   "version": "3.4.3"
  }
 },
 "nbformat": 4,
 "nbformat_minor": 0
}
